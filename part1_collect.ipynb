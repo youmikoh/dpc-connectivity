{
 "cells": [
  {
   "cell_type": "markdown",
   "metadata": {
    "extensions": {
     "jupyter_dashboards": {
      "version": 1,
      "views": {
       "grid_default": {
        "col": 0,
        "height": 13,
        "hidden": false,
        "row": 0,
        "width": 12
       },
       "report_default": {
        "hidden": false
       }
      }
     }
    }
   },
   "source": [
    "## Part I: Collecting the data \n",
    "---\n",
    "#### Data:\n",
    "History of teams for each player within the 2018 Dota 2 pro circuit\n",
    "#### Source: \n",
    "[I.](#Request-DPC-rankings-and-setup-players) Liquipedia [Dota Pro Circuit Player Rankings](https://liquipedia.net/dota2/Dota_Pro_Circuit/Rankings/Players) <br>\n",
    "[II.](#Request-individual-player-infoboxes) Respective Liquipedia [player infoboxes](https://liquipedia.net/dota2/Template:Infobox_player)\n",
    "#### Method:\n",
    "[MediaWiki API](https://liquipedia.net/commons/Liquipedia:API_Usage_Guidelines) for Liquidpedia ( [usage compliance](#Liquipedia-API-usage-compliance) is *strongly* recommended 👍)\n",
    "\n",
    "---"
   ]
  },
  {
   "cell_type": "code",
   "execution_count": 1,
   "metadata": {
    "extensions": {
     "jupyter_dashboards": {
      "version": 1,
      "views": {
       "grid_default": {
        "hidden": true
       },
       "report_default": {
        "hidden": true
       }
      }
     }
    }
   },
   "outputs": [],
   "source": [
    "import re\n",
    "import requests\n",
    "import requests_cache\n",
    "from urllib.parse import quote\n",
    "\n",
    "import time\n",
    "from datetime import datetime, timedelta\n",
    "\n",
    "from pprint import pprint"
   ]
  },
  {
   "cell_type": "markdown",
   "metadata": {
    "extensions": {
     "jupyter_dashboards": {
      "version": 1,
      "views": {
       "grid_default": {
        "col": 0,
        "height": 5,
        "hidden": false,
        "row": 13,
        "width": 12
       },
       "report_default": {
        "hidden": false
       }
      }
     }
    }
   },
   "source": [
    "### Liquipedia API usage compliance \n",
    "\n",
    "<details><summary>To avoid being IP blocked then shamefully pleading to be unblocked on <a href=\"https://discord.gg/x8kRmqu\">discord</a> - <i>sadly from experience</i></summary><img src=\"img/pepehands.png\" alt=\"pepehands.png\"></details>\n",
    "\n",
    "\n",
    "Complete guidelines can be found [here](https://liquipedia.net/commons/Liquipedia:API_Usage_Guidelines)."
   ]
  },
  {
   "cell_type": "markdown",
   "metadata": {
    "extensions": {
     "jupyter_dashboards": {
      "version": 1,
      "views": {
       "grid_default": {
        "col": 0,
        "height": 4,
        "hidden": false,
        "row": 18,
        "width": 4
       },
       "report_default": {
        "hidden": false
       }
      }
     }
    }
   },
   "source": [
    "#### 1. Cache and re-use data\n",
    "\n",
    "Changes to DPC points and team shuffles are sufficiently infrequent for 24-hour caches."
   ]
  },
  {
   "cell_type": "code",
   "execution_count": 2,
   "metadata": {
    "extensions": {
     "jupyter_dashboards": {
      "version": 1,
      "views": {
       "grid_default": {
        "hidden": true
       },
       "report_default": {
        "hidden": true
       }
      }
     }
    }
   },
   "outputs": [],
   "source": [
    "requests_cache.install_cache(\n",
    "    cache_name='dpc_cache',\n",
    "    backend='sqlite',\n",
    "    expire_after=60*60*24\n",
    ")"
   ]
  },
  {
   "cell_type": "markdown",
   "metadata": {
    "extensions": {
     "jupyter_dashboards": {
      "version": 1,
      "views": {
       "grid_default": {
        "col": 4,
        "height": 4,
        "hidden": false,
        "row": 18,
        "width": 4
       },
       "report_default": {
        "hidden": false
       }
      }
     }
    }
   },
   "source": [
    "#### 2. Limit requests to every 2 seconds\n",
    "\n",
    "Decorator controls frequency by tracking the last request and applying appropriate delays."
   ]
  },
  {
   "cell_type": "code",
   "execution_count": 3,
   "metadata": {
    "extensions": {
     "jupyter_dashboards": {
      "version": 1,
      "views": {
       "grid_default": {
        "hidden": true
       },
       "report_default": {
        "hidden": true
       }
      }
     }
    }
   },
   "outputs": [],
   "source": [
    "def throttle(f):\n",
    "    def wrap(*args, **kwds):\n",
    "        now = datetime.now()\n",
    "        if (now - wrap.last).seconds < 2: \n",
    "            time.sleep(2)\n",
    "        wrap.last = now\n",
    "        return f(*args, **kwds)\n",
    "    wrap.last = datetime.now()\n",
    "    return wrap"
   ]
  },
  {
   "cell_type": "markdown",
   "metadata": {
    "extensions": {
     "jupyter_dashboards": {
      "version": 1,
      "views": {
       "grid_default": {
        "col": 8,
        "height": 4,
        "hidden": false,
        "row": 18,
        "width": 4
       },
       "report_default": {
        "hidden": false
       }
      }
     }
    }
   },
   "source": [
    "#### 3. Include user-agent header with usage info and accept gzip encoding\n",
    "\n",
    "Don't forget to credit Liquipedia as a data source in the project as well."
   ]
  },
  {
   "cell_type": "code",
   "execution_count": 4,
   "metadata": {
    "extensions": {
     "jupyter_dashboards": {
      "version": 1,
      "views": {
       "grid_default": {
        "hidden": true
       },
       "report_default": {
        "hidden": true
       }
      }
     }
    }
   },
   "outputs": [],
   "source": [
    "headers = {\n",
    "    'User-Agent': 'DPC Connectivity 1.0/youmikoh@github',\n",
    "    'Accept-Encoding': 'gzip'\n",
    "}"
   ]
  },
  {
   "cell_type": "markdown",
   "metadata": {
    "extensions": {
     "jupyter_dashboards": {
      "version": 1,
      "views": {
       "grid_default": {
        "col": 0,
        "height": 4,
        "hidden": false,
        "row": 22,
        "width": 4
       },
       "report_default": {
        "hidden": false
       }
      }
     }
    }
   },
   "source": [
    "#### 4. Stage requests and extract data \n",
    "\n",
    "Note that automated requests of generated HTML pages is prohibited; request only proper API endpoints as per MediaWiki. Further information on request schema can be found [here](https://www.mediawiki.org/wiki/API:Main_page#A_simple_example)."
   ]
  },
  {
   "cell_type": "code",
   "execution_count": 5,
   "metadata": {
    "extensions": {
     "jupyter_dashboards": {
      "version": 1,
      "views": {
       "grid_default": {
        "hidden": true
       },
       "report_default": {
        "hidden": true
       }
      }
     }
    }
   },
   "outputs": [],
   "source": [
    "@throttle\n",
    "def liquidpedia_content(key, qualifier):\n",
    "    api = f'https://liquipedia.net/dota2/api.php?{key}={quote(qualifier)}&action=query&format=json&prop=revisions&rvprop=content&rvsection=0'\n",
    "    response = requests.get(api, headers=headers)\n",
    "    data = response.json()\n",
    "    pages = list(data.get('query').get('pages').values())\n",
    "    content = lambda page: page.get('revisions').pop().get('*')\n",
    "    return [content(p) for p in pages]"
   ]
  },
  {
   "cell_type": "markdown",
   "metadata": {
    "extensions": {
     "jupyter_dashboards": {
      "version": 1,
      "views": {
       "grid_default": {
        "hidden": true
       },
       "report_default": {
        "hidden": false
       }
      }
     }
    }
   },
   "source": [
    "### Request DPC rankings and setup players\n",
    "\n",
    "To collect data from a specific page, query using the page id found under '[Tools](https://liquipedia.net/dota2/Dota_Pro_Circuit/Rankings/Players)' > '[Page information](https://liquipedia.net/dota2/index.php?title=Dota_Pro_Circuit/Rankings/Players&action=info)' on the upper-right corner. Far left of 'Tools' on the same menubar, the '[Edit](https://liquipedia.net/dota2/index.php?title=Dota_Pro_Circuit/Rankings/Players&action=edit)' feature contains the source of the page. 🕵️Examining this will be very helpful in parsing and extracting the appropriate data.\n",
    "\n",
    "Only players with DPC points are considered.\n",
    "\n",
    "<details><summary>Keep in mind that the data may require <strike>some</strike> scrubbing. Also beware of finicky white-spaces, case sensitivity and <i>oddballs</i> when working with regular expressions.</summary><img src=\"img/puppey.gif\" alt=\"puppey.gif\"></details>"
   ]
  },
  {
   "cell_type": "code",
   "execution_count": 6,
   "metadata": {
    "extensions": {
     "jupyter_dashboards": {
      "version": 1,
      "views": {
       "grid_default": {
        "hidden": true
       },
       "report_default": {
        "hidden": true
       }
      }
     }
    }
   },
   "outputs": [],
   "source": [
    "dpc_content = liquidpedia_content('pageids', '70879').pop() \n",
    "\n",
    "dpc_content = re.sub(r'\\s+\\|', '|', dpc_content)\n",
    "dpc_content = re.sub(r'transfer.+?\\|', '', dpc_content, flags=re.IGNORECASE)\n",
    "dpc_content = re.findall( #oddballs: \"Noone|No[o]ne\", \"Maybe|Somnus丶M\"\n",
    "    r'TableRow/DPC1718Players\\|.*?\\|(.*?)\\|\\[+(.*?)\\]+\\|.*?\\|(.*?)\\|', \n",
    "    dpc_content,\n",
    "    flags=re.IGNORECASE\n",
    ")\n",
    "\n",
    "dpc = {}\n",
    "\n",
    "for p in dpc_content:\n",
    "    flag, name, points = p\n",
    "    points = int(points)\n",
    "    if points > 0:\n",
    "        if '|' in name: key, alias = name.split('|')\n",
    "        else: key, alias = name, name\n",
    "        dpc[key] = {'Alias':alias, 'Points':points, 'Flag':flag}"
   ]
  },
  {
   "cell_type": "code",
   "execution_count": 7,
   "metadata": {},
   "outputs": [
    {
     "name": "stdout",
     "output_type": "stream",
     "text": [
      "\n",
      "After collecting dpc content, 126 players of the form:\n",
      "\n",
      "{'Alias': 'fy', 'Flag': 'cn', 'Points': 2444}\n"
     ]
    }
   ],
   "source": [
    "print(f'\\nAfter collecting dpc content, {len(dpc)} players of the form:\\n')\n",
    "pprint(dpc['fy'])"
   ]
  },
  {
   "cell_type": "markdown",
   "metadata": {},
   "source": [
    "### Request individual player infoboxes\n",
    "\n",
    "Given a compilation of all DPC players, instead of using page ids to request player data, query using player names as the title of pages. To minimize the number of requests, multiple titles are queried with each request. Titles are sliced into chunks of 50, the [maximum number of values](https://www.mediawiki.org/wiki/API:Query) a single request can handle."
   ]
  },
  {
   "cell_type": "code",
   "execution_count": 8,
   "metadata": {
    "extensions": {
     "jupyter_dashboards": {
      "version": 1,
      "views": {
       "grid_default": {
        "hidden": true
       },
       "report_default": {
        "hidden": true
       }
      }
     }
    }
   },
   "outputs": [],
   "source": [
    "def collect_history_chunks():\n",
    "    players = list(dpc.keys())\n",
    "\n",
    "    while players: \n",
    "        last = min(len(players), 50)\n",
    "        chunk = '|'.join(p for p in players[:last])\n",
    "        content = liquidpedia_content('titles', chunk)\n",
    "\n",
    "        key = lambda c: re.findall(r'\\|id=(.*?)\\s', c, flags=re.IGNORECASE)\n",
    "        key_content = [(key(c).pop(), c) for c in content if key(c)]\n",
    "\n",
    "        for key, content in key_content:\n",
    "            if key in dpc: compile_history(key, content)\n",
    "\n",
    "        players = players[last:]"
   ]
  },
  {
   "cell_type": "markdown",
   "metadata": {},
   "source": [
    "#### Titles versus aliases\n",
    "\n",
    "Above, it was assumed that player names would accurately reflect the page titles. Unfortunately, in cases where players have changed names on a whim, the title no longer match their new alias and a redirect is invoked. Since majority of player histories have been captured in the chunks above, pages of the finicky remaining players are requested individually."
   ]
  },
  {
   "cell_type": "code",
   "execution_count": 9,
   "metadata": {
    "extensions": {
     "jupyter_dashboards": {
      "version": 1,
      "views": {
       "grid_default": {
        "hidden": true
       },
       "report_default": {
        "hidden": true
       }
      }
     }
    }
   },
   "outputs": [],
   "source": [
    "def collect_history_individually():\n",
    "    players_without_history = [p for p in dpc.keys() if not dpc[p].get('History')]\n",
    "    \n",
    "    for player in players_without_history:\n",
    "        content = liquidpedia_content('titles', player).pop()\n",
    "        \n",
    "        if '#REDIRECT' in content:\n",
    "            redirect = re.findall('\\[+(.*?)\\]+', content, flags=re.IGNORECASE).pop()\n",
    "            dpc[redirect] = dpc[player]\n",
    "            dpc.pop(player)\n",
    "            player = redirect\n",
    "            content = liquidpedia_content('titles', player).pop()\n",
    "            \n",
    "        compile_history(player, content)"
   ]
  },
  {
   "cell_type": "markdown",
   "metadata": {},
   "source": [
    "#### Templates for parsing\n",
    "\n",
    "In addition to viewing the page source, there are associated [templates](https://liquipedia.net/dota2/Template:Infobox_player) to facilitate the parsing process. Nonetheless, parsing dates suck.\n",
    "\n",
    "<details><summary><a href=\"https://liquipedia.net/dota2/Artstyle\">Artstyle</a> couldn't have joined DTS Gaming on <i>June 31, 2010</i></summary><img src=\"img/artstyle.png\" alt=\"artstyle.png\"></details>\n",
    "\n",
    "<details><summary><a href=\"https://liquipedia.net/dota2/CemaTheSlayeR\">CemaTheSlayer</a> & <a href=\"https://liquipedia.net/dota2/Iceberg\">Iceberg</a>: men of <i>mystery</i>❓</summary><img src=\"img/cema.png\" alt=\"cema.png\"><img src=\"img/iceberg.png\" alt=\"iceberg.png\"></details>"
   ]
  },
  {
   "cell_type": "code",
   "execution_count": 10,
   "metadata": {},
   "outputs": [],
   "source": [
    "today = datetime.strftime(datetime.today(), '%Y-%m-%d')\n",
    "\n",
    "def compile_history(key, content):\n",
    "    content = re.sub(r'\"?\\'?', '', content, flags=re.IGNORECASE)\n",
    "    content = re.sub('present', today, content, flags=re.IGNORECASE)\n",
    "\n",
    "    history = re.findall(r'{{TH\\|(.*?)}}', content, flags=re.IGNORECASE)\n",
    "    history = [h.split('|') for h in history]\n",
    "    dpc[key]['History'] = timeline(history)   \n",
    "\n",
    "def timeline(content):\n",
    "    timeframes = {}\n",
    "    content = [c for c in content if len(c[0]) > 22]\n",
    "    for c in content:\n",
    "        dates, team = c[0].strip(), c[1]\n",
    "        y0, m0, d0 = dates[:10].split('-')\n",
    "        y1, m1, d1 = dates[-10:].split('-')\n",
    "\n",
    "        known = lambda k: '?' not in k\n",
    "        if known(y0 + m0 + y1 + m1): #unknown dates: Iceberg \"201?-??-??\"\n",
    "            if not known(d0): d0 = '01'\n",
    "            if not known(d1): d1 = d0\n",
    "\n",
    "            timeframe = {'start': date(y0, m0, d0), 'end': date(y1, m1, d1)}\n",
    "            if team in timeframes: timeframes[team].append(timeframe)\n",
    "            else: timeframes[team] = [timeframe]\n",
    "            \n",
    "    return timeframes\n",
    "\n",
    "def date(y, m, d):\n",
    "    y, m, d = int(y), int(m), int(d)\n",
    "    try: return datetime(y, m, d)\n",
    "    except ValueError: return datetime(y, m, d-1) #invalid dates: Artstyle \"2010-06-31\""
   ]
  },
  {
   "cell_type": "code",
   "execution_count": 11,
   "metadata": {},
   "outputs": [],
   "source": [
    "collect_history_chunks()\n",
    "collect_history_individually()"
   ]
  },
  {
   "cell_type": "code",
   "execution_count": 12,
   "metadata": {},
   "outputs": [
    {
     "name": "stdout",
     "output_type": "stream",
     "text": [
      "\n",
      "After collecting team histories, 126 players of the form:\n",
      "\n",
      "{'Alias': 'fy',\n",
      " 'Flag': 'cn',\n",
      " 'History': {'LGD Gaming': [{'end': datetime.datetime(2018, 6, 10, 0, 0),\n",
      "                             'start': datetime.datetime(2017, 9, 4, 0, 0)}],\n",
      "             'Team VGJ': [{'end': datetime.datetime(2017, 9, 4, 0, 0),\n",
      "                           'start': datetime.datetime(2016, 12, 26, 0, 0)}],\n",
      "             'Vici Gaming': [{'end': datetime.datetime(2016, 3, 19, 0, 0),\n",
      "                              'start': datetime.datetime(2012, 10, 21, 0, 0)},\n",
      "                             {'end': datetime.datetime(2016, 12, 26, 0, 0),\n",
      "                              'start': datetime.datetime(2016, 9, 16, 0, 0)}],\n",
      "             'Vici Gaming Reborn': [{'end': datetime.datetime(2016, 8, 30, 0, 0),\n",
      "                                     'start': datetime.datetime(2016, 3, 19, 0, 0)}]},\n",
      " 'Points': 2444}\n"
     ]
    }
   ],
   "source": [
    "print(f'\\nAfter collecting team histories, {len(dpc)} players of the form:\\n')\n",
    "pprint(dpc['fy'])"
   ]
  },
  {
   "cell_type": "markdown",
   "metadata": {},
   "source": [
    "---\n",
    "## Continue to Part II: [Stratify the data](part2_stratify.ipynb)\n",
    "---\n",
    "<br><br>"
   ]
  },
  {
   "cell_type": "code",
   "execution_count": 1,
   "metadata": {},
   "outputs": [
    {
     "data": {
      "text/html": [
       "<style>\n",
       "@import url(http://fonts.googleapis.com/css?family=Source+Code+Pro|Open+Sans|Montserrat:300,500);\n",
       "\n",
       "#notebook-container {\n",
       "-webkit-box-shadow: none;\n",
       "box-shadow: none;\n",
       "}\n",
       "\n",
       ".rendered_html h1 { font-size: 3rem !important; }\n",
       ".rendered_html h2 { font-size: 2rem !important; }\n",
       ".rendered_html h3 { font-size: 1.8rem !important; }\n",
       ".rendered_html h4 { font-size: 1.5rem !important; }\n",
       ".rendered_html h5 { font-size: 1.5rem !important; }\n",
       ".rendered_html h6 { font-size: 1.5rem !important; }\n",
       "\n",
       ".rendered_html h1, \n",
       ".rendered_html h2, \n",
       ".rendered_html h3, \n",
       ".rendered_html h4,\n",
       ".rendered_html h5, \n",
       ".rendered_html h6 {\n",
       "font-family: 'Montserrat', sans-serif !important;\n",
       "line-height: 0.5em !important;\n",
       "}\n",
       "\n",
       ".rendered_html p,\n",
       ".rendered_html li,\n",
       ".rendered_html blockquote,\n",
       ".rendered_html summary {\n",
       "font-family: 'Open+Sans', sans-serif !important;\n",
       "line-height: 20px !important;\n",
       "font-weight: 300 !important;\n",
       "}\n",
       "\n",
       ".rendered_html summary { margin-top: 1.3em !important; }\n",
       "\n",
       "pre {\n",
       "font-family: 'Source Code Pro', sans-serif !important;\n",
       "font-size: 0.9em !important;\n",
       "}\n",
       "\n",
       "div.input_area {\n",
       "border: none !important;\n",
       "background: whitesmoke !important;\n",
       "}\n",
       "\n",
       "<style>"
      ],
      "text/plain": [
       "<IPython.core.display.HTML object>"
      ]
     },
     "execution_count": 1,
     "metadata": {},
     "output_type": "execute_result"
    }
   ],
   "source": [
    "from IPython.core.display import HTML\n",
    "HTML(open(\"css/dpc_ipynb.css\", \"r\").read()) #IPYNB STYLING"
   ]
  },
  {
   "cell_type": "code",
   "execution_count": null,
   "metadata": {},
   "outputs": [],
   "source": []
  }
 ],
 "metadata": {
  "extensions": {
   "jupyter_dashboards": {
    "activeView": "report_default",
    "version": 1,
    "views": {
     "grid_default": {
      "cellMargin": 10,
      "defaultCellHeight": 20,
      "maxColumns": 12,
      "name": "grid",
      "type": "grid"
     },
     "report_default": {
      "name": "report",
      "type": "report"
     }
    }
   }
  },
  "kernelspec": {
   "display_name": "Python 3",
   "language": "python",
   "name": "python3"
  },
  "language_info": {
   "codemirror_mode": {
    "name": "ipython",
    "version": 3
   },
   "file_extension": ".py",
   "mimetype": "text/x-python",
   "name": "python",
   "nbconvert_exporter": "python",
   "pygments_lexer": "ipython3",
   "version": "3.6.2"
  }
 },
 "nbformat": 4,
 "nbformat_minor": 2
}
