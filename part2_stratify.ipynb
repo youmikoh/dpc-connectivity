{
 "cells": [
  {
   "cell_type": "markdown",
   "metadata": {},
   "source": [
    "## Part II: Stratify the data\n",
    "---\n",
    "\n",
    "#### Hierarchy:\n",
    "Players will be grouped by country and then by [continent](#Map-continental-region-for-clustering)\n",
    "\n",
    "`player` $\\mapsto$ `Flag` $\\mapsto$ `Region`\n",
    "\n",
    "#### Connections: \n",
    "Player `a` is [connected](#Connect-players) to player `b` if and only if `a` and `b` have [played on a team together](#Define-connectivity-relation)\n",
    "\n",
    "`ab` $\\in$ `connections` $\\iff$ `a.History` $\\cup$ `b.History` $> 0$\n",
    "\n",
    "#### Visualization:\n",
    "A [variation on a radial dendogram with 2-tier hierarchical edge clusters](https://beta.observablehq.com/@youmikoh/dota-2-pro-circuit-connectivity)\n",
    "\n",
    "$G = \\{V, E\\} : $ `dpc` $\\mapsto V, $ `connections` $\\mapsto E$ \n",
    "\n",
    "---"
   ]
  },
  {
   "cell_type": "markdown",
   "metadata": {},
   "source": [
    "### Magically load `dpc` from `part1_collect.ipynb` in here\n",
    "\n",
    "Cell magic `%run` will run the cells of a given notebook inside iPython as a program. This is made obvious from the output generated below, which directly mimicks the ouputs from [part1_collect.ipynb](part1_collect.ipynb). Conveniently, this notebook inherts the entire namespace of the referenced notebook including `dpc`."
   ]
  },
  {
   "cell_type": "code",
   "execution_count": 1,
   "metadata": {},
   "outputs": [
    {
     "name": "stdout",
     "output_type": "stream",
     "text": [
      "\n",
      "After collecting dpc content, 126 players of the form:\n",
      "\n",
      "{'Alias': 'fy', 'Flag': 'cn', 'Points': 2444}\n",
      "\n",
      "After collecting team histories, 126 players of the form:\n",
      "\n",
      "{'Alias': 'fy',\n",
      " 'Flag': 'cn',\n",
      " 'History': {'LGD Gaming': [{'end': datetime.datetime(2018, 6, 10, 0, 0),\n",
      "                             'start': datetime.datetime(2017, 9, 4, 0, 0)}],\n",
      "             'Team VGJ': [{'end': datetime.datetime(2017, 9, 4, 0, 0),\n",
      "                           'start': datetime.datetime(2016, 12, 26, 0, 0)}],\n",
      "             'Vici Gaming': [{'end': datetime.datetime(2016, 3, 19, 0, 0),\n",
      "                              'start': datetime.datetime(2012, 10, 21, 0, 0)},\n",
      "                             {'end': datetime.datetime(2016, 12, 26, 0, 0),\n",
      "                              'start': datetime.datetime(2016, 9, 16, 0, 0)}],\n",
      "             'Vici Gaming Reborn': [{'end': datetime.datetime(2016, 8, 30, 0, 0),\n",
      "                                     'start': datetime.datetime(2016, 3, 19, 0, 0)}]},\n",
      " 'Points': 2444}\n"
     ]
    }
   ],
   "source": [
    "%run part1_collect.ipynb"
   ]
  },
  {
   "cell_type": "markdown",
   "metadata": {},
   "source": [
    "#### Map continental region for clustering\n",
    "\n",
    "Initalize `Count` for tracking the number of connections."
   ]
  },
  {
   "cell_type": "code",
   "execution_count": 2,
   "metadata": {},
   "outputs": [],
   "source": [
    "region = {'bd':'as','be':'eu','bf':'af','bg':'eu','ba':'eu','bb':'na','wf':'oc','bl':'na','bm':'na','bn':'as','bo':'sa','bh':'as','bi':'af','bj':'af','bt':'as','jm':'na','bv':'an','bw':'af','ws':'oc','bq':'na','br':'sa','bs':'na','je':'eu','by':'eu','bz':'na','ru':'eu','rw':'af','rs':'eu','tl':'oc','re':'af','tm':'as','tj':'as','ro':'eu','tk':'oc','gw':'af','gu':'oc','gt':'na','gs':'an','gr':'eu','gq':'af','gp':'na','jp':'as','gy':'sa','gg':'eu','gf':'sa','ge':'as','gd':'na','gb':'eu','ga':'af','sv':'na','gn':'af','gm':'af','gl':'na','gi':'eu','gh':'af','om':'as','tn':'af','jo':'as','hr':'eu','ht':'na','hu':'eu','hk':'as','hn':'na','hm':'an','ve':'sa','pr':'na','ps':'as','pw':'oc','pt':'eu','sj':'eu','py':'sa','iq':'as','pa':'na','pf':'oc','pg':'oc','pe':'sa','pk':'as','ph':'as','pn':'oc','pl':'eu','pm':'na','zm':'af','eh':'af','ee':'eu','eg':'af','za':'af','ec':'sa','it':'eu','vn':'as','sb':'oc','et':'af','so':'af','zw':'af','sa':'as','es':'eu','er':'af','me':'eu','md':'eu','mg':'af','mf':'na','ma':'af','mc':'eu','uz':'as','mm':'as','ml':'af','mo':'as','mn':'as','mh':'oc','mk':'eu','mu':'af','mt':'eu','mw':'af','mv':'as','mq':'na','mp':'oc','ms':'na','mr':'af','im':'eu','ug':'af','tz':'af','my':'as','mx':'na','il':'as','fr':'eu','io':'as','sh':'af','fi':'eu','fj':'oc','fk':'sa','fm':'oc','fo':'eu','ni':'na','nl':'eu','no':'eu','na':'af','vu':'oc','nc':'oc','ne':'af','nf':'oc','ng':'af','nz':'oc','np':'as','nr':'oc','nu':'oc','ck':'oc','xk':'eu','ci':'af','ch':'eu','co':'sa','cn':'as','cm':'af','cl':'sa','cc':'as','ca':'na','cg':'af','cf':'af','cd':'af','cz':'eu','cy':'eu','cx':'as','cr':'na','cw':'na','cv':'af','cu':'na','sz':'af','sy':'as','sx':'na','kg':'as','ke':'af','ss':'af','sr':'sa','ki':'oc','kh':'as','kn':'na','km':'af','st':'af','sk':'eu','kr':'as','si':'eu','kp':'as','kw':'as','sn':'af','sm':'eu','sl':'af','sc':'af','kz':'as','ky':'na','sg':'as','se':'eu','sd':'af','do':'na','dm':'na','dj':'af','dk':'eu','vg':'na','de':'eu','ye':'as','dz':'af','us':'na','uy':'sa','yt':'af','um':'oc','lb':'as','lc':'na','la':'as','tv':'oc','tw':'as','tt':'na','tr':'as','lk':'as','li':'eu','lv':'eu','to':'oc','lt':'eu','lu':'eu','lr':'af','ls':'af','th':'as','tf':'an','tg':'af','td':'af','tc':'na','ly':'af','va':'eu','vc':'na','ae':'as','ad':'eu','ag':'na','af':'as','ai':'na','vi':'na','is':'eu','ir':'as','am':'as','al':'eu','ao':'af','aq':'an','as':'oc','ar':'sa','au':'oc','at':'eu','aw':'na','in':'as','ax':'eu','az':'as','ie':'eu','id':'as','ua':'eu','qa':'as','mz':'af'}\n",
    "\n",
    "for player in dpc: dpc[player]['Region'] = region.get(dpc[player]['Flag'])"
   ]
  },
  {
   "cell_type": "markdown",
   "metadata": {},
   "source": [
    "### Define connectivity relation\n",
    "\n",
    "Connectivity between two players is determined essentially by a scheduling problem for each common team. By design, the team histories are already sorted in increasing order which allows the scheduling problem to perform in linear time, $O(n),\\ n:$ number of combined time periods per team."
   ]
  },
  {
   "cell_type": "code",
   "execution_count": 3,
   "metadata": {},
   "outputs": [],
   "source": [
    "def teammates(duo):\n",
    "    p1, p2 = duo\n",
    "    h1, h2 = dpc[p1]['History'], dpc[p2]['History']\n",
    "    \n",
    "    common_teams = h1.keys() & h2.keys()\n",
    "    while common_teams:\n",
    "        team = common_teams.pop()\n",
    "        th1, th2 = h1[team], h2[team]\n",
    "        while th1 and th2:\n",
    "            period1, period2 = th1[0], th2[0]\n",
    "            if overlap(period1, period2): return True\n",
    "            if period1['end'] < period2['end']: th1 = th1[1:]\n",
    "            else: th2 = th2[1:]\n",
    "                \n",
    "    return False\n",
    "\n",
    "def overlap(period1, period2):\n",
    "    latest_start = max(period1['start'], period2['start'])\n",
    "    earliest_end = min(period1['end'], period2['end'])\n",
    "    delta = (earliest_end - latest_start).days + 1   \n",
    "    return delta > 0"
   ]
  },
  {
   "cell_type": "markdown",
   "metadata": {},
   "source": [
    "#### Connect players\n",
    "\n",
    "Iterating over all (other) players for each player, every history pair is inspected for a connection. When a connection is found, each player increases their connection count and the duo-set is then added to `connections`. Note that directionality is irrelevant for connectivity, and thus a set (no-order) representation suffices.\n",
    "\n",
    "To marginally optimize performance, non-connection duo-sets are added to `non-connections`. Rather than considering every duo-permutation, consider only the duo-combination by checking if the duo-set already exists in `connections` or `non-connections`; i.e connectivity for this duo has already been accounted for. This effectively halves the inspection calls at the cost of overhead checking existance in `connections` and `non-connections` as well as their storage. "
   ]
  },
  {
   "cell_type": "code",
   "execution_count": 4,
   "metadata": {},
   "outputs": [],
   "source": [
    "def connect_players_by_combinations():\n",
    "    connections, non_connections = set(), set()\n",
    "    for player in dpc:\n",
    "        for other in dpc:\n",
    "            if player!=other:\n",
    "                duo = frozenset([player, other])\n",
    "                if duo not in connections and duo not in non_connections:\n",
    "                    if teammates(duo):\n",
    "                        dpc[player]['Count'] += 1\n",
    "                        dpc[other]['Count'] += 1\n",
    "                        connections.add(duo)\n",
    "                    else: non_connections.add(duo)\n",
    "    return connections"
   ]
  },
  {
   "cell_type": "code",
   "execution_count": 5,
   "metadata": {},
   "outputs": [],
   "source": [
    "def connect_players_by_permutations():\n",
    "    connections = set()\n",
    "    for player in dpc:\n",
    "        for other in dpc:\n",
    "            if player!=other:\n",
    "                duo = frozenset([player, other])\n",
    "                if teammates(duo):\n",
    "                    dpc[player]['Count'] += 1\n",
    "                    connections.add(duo)\n",
    "    return connections"
   ]
  },
  {
   "cell_type": "markdown",
   "metadata": {},
   "source": [
    "#### Connection performance \n",
    "\n",
    "In practice, connecting via combinations performs about 30% faster than permuatations as demonstrated with the `%%timeit` magics below. Even so, the process of connecting players runs in quadratic time $O(n^2),\\ n:$ number of players."
   ]
  },
  {
   "cell_type": "code",
   "execution_count": 6,
   "metadata": {},
   "outputs": [
    {
     "name": "stdout",
     "output_type": "stream",
     "text": [
      "20.2 ms ± 473 µs per loop (mean ± std. dev. of 25 runs, 25 loops each)\n"
     ]
    }
   ],
   "source": [
    "%%timeit -n25 -r25\n",
    "for player in dpc: dpc[player]['Count'] = 0\n",
    "connections = connect_players_by_combinations()"
   ]
  },
  {
   "cell_type": "code",
   "execution_count": 7,
   "metadata": {},
   "outputs": [
    {
     "name": "stdout",
     "output_type": "stream",
     "text": [
      "27.8 ms ± 529 µs per loop (mean ± std. dev. of 25 runs, 25 loops each)\n"
     ]
    }
   ],
   "source": [
    "%%timeit -n25 -r25\n",
    "for player in dpc: dpc[player]['Count'] = 0\n",
    "connections = connect_players_by_permutations()"
   ]
  },
  {
   "cell_type": "markdown",
   "metadata": {},
   "source": [
    "### Mapping data for visualization\n",
    "\n",
    "Finally, `dpc` and `connections` are mapped to the nodes and links of the graph respectively."
   ]
  },
  {
   "cell_type": "code",
   "execution_count": 8,
   "metadata": {},
   "outputs": [],
   "source": [
    "for player in dpc: dpc[player]['Count'] = 0\n",
    "connections = connect_players_by_combinations()\n",
    "\n",
    "links = connections\n",
    "nodes = dpc\n",
    "graph = {'nodes': nodes, 'links': links}"
   ]
  },
  {
   "cell_type": "markdown",
   "metadata": {},
   "source": [
    "#### JSON encoding for objects\n",
    "\n",
    "The graph is exported in a json file format for use with [d3.js](https://d3js.org/) to leverage its powerful visualization tools. Note that a custon json encoder should be implemented to preserve object-type data."
   ]
  },
  {
   "cell_type": "code",
   "execution_count": 9,
   "metadata": {},
   "outputs": [],
   "source": [
    "import json\n",
    "\n",
    "class DPCEncoder(json.JSONEncoder):\n",
    "    def default(self, obj):\n",
    "        if isinstance(obj, set): \n",
    "            return list(obj)\n",
    "        if isinstance(obj, frozenset): \n",
    "            return list(obj)\n",
    "        elif isinstance(obj, datetime): \n",
    "            return obj.isoformat()\n",
    "        else:\n",
    "            return super(DPCEncoder, self).default(obj)\n",
    "        \n",
    "with open('data/dpc_connectivity_data.json', 'w') as outfile:  \n",
    "    json.dump(graph, outfile, cls=DPCEncoder)"
   ]
  },
  {
   "cell_type": "markdown",
   "metadata": {},
   "source": [
    "---\n",
    "## Continue to Part III: [Visualize the data](https://beta.observablehq.com/@youmikoh/dota-2-pro-circuit-connectivity)\n",
    "___\n",
    "<br><br>"
   ]
  },
  {
   "cell_type": "code",
   "execution_count": 1,
   "metadata": {},
   "outputs": [
    {
     "data": {
      "text/html": [
       "<style>\n",
       "@import url(http://fonts.googleapis.com/css?family=Source+Code+Pro|Open+Sans|Montserrat:300,500);\n",
       "\n",
       "#notebook-container {\n",
       "-webkit-box-shadow: none;\n",
       "box-shadow: none;\n",
       "}\n",
       "\n",
       ".rendered_html h1 { font-size: 3rem !important; }\n",
       ".rendered_html h2 { font-size: 2rem !important; }\n",
       ".rendered_html h3 { font-size: 1.8rem !important; }\n",
       ".rendered_html h4 { font-size: 1.5rem !important; }\n",
       ".rendered_html h5 { font-size: 1.5rem !important; }\n",
       ".rendered_html h6 { font-size: 1.5rem !important; }\n",
       "\n",
       ".rendered_html h1, \n",
       ".rendered_html h2, \n",
       ".rendered_html h3, \n",
       ".rendered_html h4,\n",
       ".rendered_html h5, \n",
       ".rendered_html h6 {\n",
       "font-family: 'Montserrat', sans-serif !important;\n",
       "line-height: 0.5em !important;\n",
       "}\n",
       "\n",
       ".rendered_html p,\n",
       ".rendered_html li,\n",
       ".rendered_html blockquote,\n",
       ".rendered_html summary {\n",
       "font-family: 'Open+Sans', sans-serif !important;\n",
       "line-height: 20px !important;\n",
       "font-weight: 300 !important;\n",
       "}\n",
       "\n",
       ".rendered_html summary { margin-top: 1.3em !important; }\n",
       "\n",
       "pre {\n",
       "font-family: 'Source Code Pro', sans-serif !important;\n",
       "font-size: 0.9em !important;\n",
       "}\n",
       "\n",
       "div.input_area {\n",
       "border: none !important;\n",
       "background: whitesmoke !important;\n",
       "}\n",
       "\n",
       "<style>"
      ],
      "text/plain": [
       "<IPython.core.display.HTML object>"
      ]
     },
     "execution_count": 1,
     "metadata": {},
     "output_type": "execute_result"
    }
   ],
   "source": [
    "from IPython.core.display import HTML\n",
    "HTML(open(\"css/dpc_ipynb.css\", \"r\").read()) #IPYNB STYLING"
   ]
  },
  {
   "cell_type": "code",
   "execution_count": null,
   "metadata": {},
   "outputs": [],
   "source": []
  }
 ],
 "metadata": {
  "kernelspec": {
   "display_name": "Python 3",
   "language": "python",
   "name": "python3"
  },
  "language_info": {
   "codemirror_mode": {
    "name": "ipython",
    "version": 3
   },
   "file_extension": ".py",
   "mimetype": "text/x-python",
   "name": "python",
   "nbconvert_exporter": "python",
   "pygments_lexer": "ipython3",
   "version": "3.6.2"
  }
 },
 "nbformat": 4,
 "nbformat_minor": 2
}
